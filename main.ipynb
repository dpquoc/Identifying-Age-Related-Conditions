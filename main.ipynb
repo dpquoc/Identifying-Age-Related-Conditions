{
 "cells": [
  {
   "cell_type": "code",
   "execution_count": 1,
   "id": "598731c3",
   "metadata": {
    "_cell_guid": "b1076dfc-b9ad-4769-8c92-a6c4dae69d19",
    "_uuid": "8f2839f25d086af736a60e9eeb907d3b93b6e0e5",
    "execution": {
     "iopub.execute_input": "2023-07-31T08:48:15.781152Z",
     "iopub.status.busy": "2023-07-31T08:48:15.780437Z",
     "iopub.status.idle": "2023-07-31T08:48:15.799895Z",
     "shell.execute_reply": "2023-07-31T08:48:15.798921Z"
    },
    "papermill": {
     "duration": 0.03102,
     "end_time": "2023-07-31T08:48:15.802190",
     "exception": false,
     "start_time": "2023-07-31T08:48:15.771170",
     "status": "completed"
    },
    "tags": []
   },
   "outputs": [
    {
     "name": "stdout",
     "output_type": "stream",
     "text": [
      "/kaggle/input/pip-packages-icr/pip-packages/tabpfn-0.1.9-py3-none-any.whl\n",
      "/kaggle/input/pip-packages-icr/pip-packages/prior_diff_real_checkpoint_n_0_epoch_100.cpkt\n",
      "/kaggle/input/icr-identify-age-related-conditions/sample_submission.csv\n",
      "/kaggle/input/icr-identify-age-related-conditions/greeks.csv\n",
      "/kaggle/input/icr-identify-age-related-conditions/train.csv\n",
      "/kaggle/input/icr-identify-age-related-conditions/test.csv\n"
     ]
    }
   ],
   "source": [
    "# This Python 3 environment comes with many helpful analytics libraries installed\n",
    "# It is defined by the kaggle/python Docker image: https://github.com/kaggle/docker-python\n",
    "# For example, here's several helpful packages to load\n",
    "\n",
    "import numpy as np # linear algebra\n",
    "import pandas as pd # data processing, CSV file I/O (e.g. pd.read_csv)\n",
    "\n",
    "# Input data files are available in the read-only \"../input/\" directory\n",
    "# For example, running this (by clicking run or pressing Shift+Enter) will list all files under the input directory\n",
    "\n",
    "import os\n",
    "for dirname, _, filenames in os.walk('/kaggle/input'):\n",
    "    for filename in filenames:\n",
    "        print(os.path.join(dirname, filename))\n",
    "\n",
    "# You can write up to 20GB to the current directory (/kaggle/working/) that gets preserved as output when you create a version using \"Save & Run All\" \n",
    "# You can also write temporary files to /kaggle/temp/, but they won't be saved outside of the current session"
   ]
  },
  {
   "cell_type": "code",
   "execution_count": 2,
   "id": "83cf89b1",
   "metadata": {
    "execution": {
     "iopub.execute_input": "2023-07-31T08:48:15.818447Z",
     "iopub.status.busy": "2023-07-31T08:48:15.818113Z",
     "iopub.status.idle": "2023-07-31T08:48:30.849839Z",
     "shell.execute_reply": "2023-07-31T08:48:30.848584Z"
    },
    "papermill": {
     "duration": 15.042462,
     "end_time": "2023-07-31T08:48:30.852391",
     "exception": false,
     "start_time": "2023-07-31T08:48:15.809929",
     "status": "completed"
    },
    "tags": []
   },
   "outputs": [
    {
     "name": "stdout",
     "output_type": "stream",
     "text": [
      "Looking in links: file:///kaggle/input/pip-packages-icr/pip-packages\r\n",
      "Processing /kaggle/input/pip-packages-icr/pip-packages/tabpfn-0.1.9-py3-none-any.whl\r\n",
      "Requirement already satisfied: numpy>=1.21.2 in /opt/conda/lib/python3.10/site-packages (from tabpfn) (1.23.5)\r\n",
      "Requirement already satisfied: pyyaml>=5.4.1 in /opt/conda/lib/python3.10/site-packages (from tabpfn) (5.4.1)\r\n",
      "Requirement already satisfied: requests>=2.23.0 in /opt/conda/lib/python3.10/site-packages (from tabpfn) (2.28.2)\r\n",
      "Requirement already satisfied: scikit-learn>=0.24.2 in /opt/conda/lib/python3.10/site-packages (from tabpfn) (1.2.2)\r\n",
      "Requirement already satisfied: torch>=1.9.0 in /opt/conda/lib/python3.10/site-packages (from tabpfn) (2.0.0)\r\n",
      "Requirement already satisfied: charset-normalizer<4,>=2 in /opt/conda/lib/python3.10/site-packages (from requests>=2.23.0->tabpfn) (2.1.1)\r\n",
      "Requirement already satisfied: idna<4,>=2.5 in /opt/conda/lib/python3.10/site-packages (from requests>=2.23.0->tabpfn) (3.4)\r\n",
      "Requirement already satisfied: urllib3<1.27,>=1.21.1 in /opt/conda/lib/python3.10/site-packages (from requests>=2.23.0->tabpfn) (1.26.15)\r\n",
      "Requirement already satisfied: certifi>=2017.4.17 in /opt/conda/lib/python3.10/site-packages (from requests>=2.23.0->tabpfn) (2023.5.7)\r\n",
      "Requirement already satisfied: scipy>=1.3.2 in /opt/conda/lib/python3.10/site-packages (from scikit-learn>=0.24.2->tabpfn) (1.10.1)\r\n",
      "Requirement already satisfied: joblib>=1.1.1 in /opt/conda/lib/python3.10/site-packages (from scikit-learn>=0.24.2->tabpfn) (1.2.0)\r\n",
      "Requirement already satisfied: threadpoolctl>=2.0.0 in /opt/conda/lib/python3.10/site-packages (from scikit-learn>=0.24.2->tabpfn) (3.1.0)\r\n",
      "Requirement already satisfied: filelock in /opt/conda/lib/python3.10/site-packages (from torch>=1.9.0->tabpfn) (3.12.0)\r\n",
      "Requirement already satisfied: typing-extensions in /opt/conda/lib/python3.10/site-packages (from torch>=1.9.0->tabpfn) (4.5.0)\r\n",
      "Requirement already satisfied: sympy in /opt/conda/lib/python3.10/site-packages (from torch>=1.9.0->tabpfn) (1.12)\r\n",
      "Requirement already satisfied: networkx in /opt/conda/lib/python3.10/site-packages (from torch>=1.9.0->tabpfn) (3.1)\r\n",
      "Requirement already satisfied: jinja2 in /opt/conda/lib/python3.10/site-packages (from torch>=1.9.0->tabpfn) (3.1.2)\r\n",
      "Requirement already satisfied: MarkupSafe>=2.0 in /opt/conda/lib/python3.10/site-packages (from jinja2->torch>=1.9.0->tabpfn) (2.1.2)\r\n",
      "Requirement already satisfied: mpmath>=0.19 in /opt/conda/lib/python3.10/site-packages (from sympy->torch>=1.9.0->tabpfn) (1.3.0)\r\n",
      "Installing collected packages: tabpfn\r\n",
      "Successfully installed tabpfn-0.1.9\r\n",
      "\u001b[33mWARNING: Running pip as the 'root' user can result in broken permissions and conflicting behaviour with the system package manager. It is recommended to use a virtual environment instead: https://pip.pypa.io/warnings/venv\u001b[0m\u001b[33m\r\n",
      "\u001b[0m"
     ]
    }
   ],
   "source": [
    "!pip install tabpfn --no-index --find-links=file:///kaggle/input/pip-packages-icr/pip-packages\n",
    "!mkdir -p /opt/conda/lib/python3.10/site-packages/tabpfn/models_diff\n",
    "!cp /kaggle/input/pip-packages-icr/pip-packages/prior_diff_real_checkpoint_n_0_epoch_100.cpkt /opt/conda/lib/python3.10/site-packages/tabpfn/models_diff/"
   ]
  },
  {
   "cell_type": "code",
   "execution_count": 3,
   "id": "af7f0aeb",
   "metadata": {
    "execution": {
     "iopub.execute_input": "2023-07-31T08:48:30.871991Z",
     "iopub.status.busy": "2023-07-31T08:48:30.871646Z",
     "iopub.status.idle": "2023-07-31T08:48:45.272257Z",
     "shell.execute_reply": "2023-07-31T08:48:45.271262Z"
    },
    "papermill": {
     "duration": 14.41225,
     "end_time": "2023-07-31T08:48:45.274785",
     "exception": false,
     "start_time": "2023-07-31T08:48:30.862535",
     "status": "completed"
    },
    "tags": []
   },
   "outputs": [
    {
     "name": "stderr",
     "output_type": "stream",
     "text": [
      "/opt/conda/lib/python3.10/site-packages/tensorflow_io/python/ops/__init__.py:98: UserWarning: unable to load libtensorflow_io_plugins.so: unable to open file: libtensorflow_io_plugins.so, from paths: ['/opt/conda/lib/python3.10/site-packages/tensorflow_io/python/ops/libtensorflow_io_plugins.so']\n",
      "caused by: ['/opt/conda/lib/python3.10/site-packages/tensorflow_io/python/ops/libtensorflow_io_plugins.so: undefined symbol: _ZN3tsl6StatusC1EN10tensorflow5error4CodeESt17basic_string_viewIcSt11char_traitsIcEENS_14SourceLocationE']\n",
      "  warnings.warn(f\"unable to load libtensorflow_io_plugins.so: {e}\")\n",
      "/opt/conda/lib/python3.10/site-packages/tensorflow_io/python/ops/__init__.py:104: UserWarning: file system plugins are not loaded: unable to open file: libtensorflow_io.so, from paths: ['/opt/conda/lib/python3.10/site-packages/tensorflow_io/python/ops/libtensorflow_io.so']\n",
      "caused by: ['/opt/conda/lib/python3.10/site-packages/tensorflow_io/python/ops/libtensorflow_io.so: undefined symbol: _ZTVN10tensorflow13GcsFileSystemE']\n",
      "  warnings.warn(f\"file system plugins are not loaded: {e}\")\n"
     ]
    }
   ],
   "source": [
    "#invite people for the Kaggle party\n",
    "import pandas as pd\n",
    "import matplotlib.pyplot as plt\n",
    "import seaborn as sns\n",
    "import numpy as np\n",
    "\n",
    "from sklearn.model_selection import KFold , StratifiedKFold\n",
    "from sklearn.preprocessing import LabelEncoder\n",
    "from sklearn.preprocessing import StandardScaler\n",
    "\n",
    "# ML\n",
    "from sklearn.ensemble import RandomForestClassifier  # Bagging\n",
    "from sklearn.metrics import roc_auc_score\n",
    "from sklearn.model_selection import train_test_split\n",
    "from xgboost.sklearn import XGBClassifier            # GBM\n",
    "from sklearn.impute import KNNImputer\n",
    "import lightgbm as lgb\n",
    "import catboost as cb\n",
    "from tabpfn import TabPFNClassifier\n",
    "import tqdm\n",
    "\n",
    "\n",
    "\n",
    "from keras.optimizers import Adam , SGD , RMSprop\n",
    "from keras.callbacks import ReduceLROnPlateau\n",
    "from xgboost import XGBClassifier\n",
    "\n",
    "from functools import partial\n",
    "from imblearn.over_sampling import SMOTE\n",
    "\n",
    "# AutoML framework\n",
    "import optuna\n",
    "from optuna.samplers import TPESampler\n",
    "\n",
    "\n",
    "import warnings\n",
    "warnings.filterwarnings('ignore')\n",
    "%matplotlib inline"
   ]
  },
  {
   "cell_type": "code",
   "execution_count": 4,
   "id": "c0b490a0",
   "metadata": {
    "execution": {
     "iopub.execute_input": "2023-07-31T08:48:45.293003Z",
     "iopub.status.busy": "2023-07-31T08:48:45.292220Z",
     "iopub.status.idle": "2023-07-31T08:48:45.304485Z",
     "shell.execute_reply": "2023-07-31T08:48:45.303407Z"
    },
    "papermill": {
     "duration": 0.023524,
     "end_time": "2023-07-31T08:48:45.306598",
     "exception": false,
     "start_time": "2023-07-31T08:48:45.283074",
     "status": "completed"
    },
    "tags": []
   },
   "outputs": [],
   "source": [
    "#invite people for the Kaggle party\n",
    "import pandas as pd\n",
    "import matplotlib.pyplot as plt\n",
    "import seaborn as sns\n",
    "import numpy as np\n",
    "\n",
    "from sklearn.model_selection import KFold , StratifiedKFold\n",
    "from sklearn.preprocessing import LabelEncoder\n",
    "from sklearn.preprocessing import StandardScaler\n",
    "\n",
    "# ML\n",
    "from sklearn.ensemble import RandomForestClassifier  # Bagging\n",
    "from sklearn.metrics import roc_auc_score\n",
    "from sklearn.model_selection import train_test_split\n",
    "from xgboost.sklearn import XGBClassifier            # GBM\n",
    "from sklearn.impute import KNNImputer\n",
    "import lightgbm as lgb\n",
    "import catboost as cb\n",
    "from tabpfn import TabPFNClassifier\n",
    "import tqdm\n",
    "\n",
    "\n",
    "\n",
    "from keras.optimizers import Adam , SGD , RMSprop\n",
    "from keras.callbacks import ReduceLROnPlateau\n",
    "from xgboost import XGBClassifier\n",
    "\n",
    "from functools import partial\n",
    "from imblearn.over_sampling import SMOTE\n",
    "\n",
    "# AutoML framework\n",
    "import optuna\n",
    "from optuna.samplers import TPESampler\n",
    "\n",
    "\n",
    "import warnings\n",
    "warnings.filterwarnings('ignore')\n",
    "%matplotlib inline"
   ]
  },
  {
   "cell_type": "code",
   "execution_count": 5,
   "id": "3d77d494",
   "metadata": {
    "execution": {
     "iopub.execute_input": "2023-07-31T08:48:45.323763Z",
     "iopub.status.busy": "2023-07-31T08:48:45.323406Z",
     "iopub.status.idle": "2023-07-31T08:48:45.331932Z",
     "shell.execute_reply": "2023-07-31T08:48:45.331052Z"
    },
    "papermill": {
     "duration": 0.01942,
     "end_time": "2023-07-31T08:48:45.334079",
     "exception": false,
     "start_time": "2023-07-31T08:48:45.314659",
     "status": "completed"
    },
    "tags": []
   },
   "outputs": [],
   "source": [
    "# set configs\n",
    "is_tuning = True\n",
    "is_scaling = True\n",
    "is_pca = False\n",
    "apply_vif = True\n",
    "feature_selection = True\n",
    "is_cuml = True\n",
    "is_debug = True\n",
    "sampling_method = 'hybrid' # 'under' or 'over'\n",
    "\n",
    "# Keras model compile\n",
    "learning_rate = 1e-2\n",
    "batch_size = 32\n",
    "epochs = 10\n",
    "\n",
    "\n",
    "#MY CONFIG\n",
    "balance_dataset = False # Upper dataset\n",
    "apply_scaler = False\n",
    "\n",
    "\n",
    "if is_tuning:\n",
    "    sampler = TPESampler(seed=42)  # Make the sampler behave in a deterministic way.\n",
    "    \n",
    "if feature_selection:\n",
    "    m = 20\n",
    "    \n",
    "if is_tuning:\n",
    "    n_trials=50\n",
    "    "
   ]
  },
  {
   "cell_type": "code",
   "execution_count": 6,
   "id": "1c187b29",
   "metadata": {
    "execution": {
     "iopub.execute_input": "2023-07-31T08:48:45.351623Z",
     "iopub.status.busy": "2023-07-31T08:48:45.350789Z",
     "iopub.status.idle": "2023-07-31T08:48:45.357761Z",
     "shell.execute_reply": "2023-07-31T08:48:45.356796Z"
    },
    "papermill": {
     "duration": 0.01784,
     "end_time": "2023-07-31T08:48:45.359763",
     "exception": false,
     "start_time": "2023-07-31T08:48:45.341923",
     "status": "completed"
    },
    "tags": []
   },
   "outputs": [],
   "source": [
    "def balance_logloss(y_true, y_pred):\n",
    "    y_pred = np.clip(y_pred, 1e-15, 1-1e-15)\n",
    "    y_pred /= np.sum(y_pred, axis=1)[:, None]\n",
    "    nc = np.bincount(y_true)\n",
    "    \n",
    "    logloss = (-1/nc[0]*(np.sum(np.where(y_true==0,1,0) * np.log(y_pred[:,0]))) - 1/nc[1]*(np.sum(np.where(y_true!=0,1,0) * np.log(y_pred[:,1])))) / 2\n",
    "    \n",
    "    return logloss"
   ]
  },
  {
   "cell_type": "code",
   "execution_count": 7,
   "id": "b35d9216",
   "metadata": {
    "execution": {
     "iopub.execute_input": "2023-07-31T08:48:45.377259Z",
     "iopub.status.busy": "2023-07-31T08:48:45.376921Z",
     "iopub.status.idle": "2023-07-31T08:48:45.418101Z",
     "shell.execute_reply": "2023-07-31T08:48:45.416752Z"
    },
    "papermill": {
     "duration": 0.052682,
     "end_time": "2023-07-31T08:48:45.420242",
     "exception": false,
     "start_time": "2023-07-31T08:48:45.367560",
     "status": "completed"
    },
    "tags": []
   },
   "outputs": [
    {
     "name": "stdout",
     "output_type": "stream",
     "text": [
      "Full train dataset shape is (617, 58)\n"
     ]
    }
   ],
   "source": [
    "#bring in the six packs\n",
    "train = pd.read_csv('/kaggle/input/icr-identify-age-related-conditions/train.csv')\n",
    "greeks = pd.read_csv('/kaggle/input/icr-identify-age-related-conditions/greeks.csv')\n",
    "test = pd.read_csv('/kaggle/input/icr-identify-age-related-conditions/test.csv')\n",
    "\n",
    "\n",
    "print(\"Full train dataset shape is {}\".format(train.shape))"
   ]
  },
  {
   "cell_type": "code",
   "execution_count": 8,
   "id": "fc069377",
   "metadata": {
    "execution": {
     "iopub.execute_input": "2023-07-31T08:48:45.438436Z",
     "iopub.status.busy": "2023-07-31T08:48:45.437465Z",
     "iopub.status.idle": "2023-07-31T08:48:45.450500Z",
     "shell.execute_reply": "2023-07-31T08:48:45.449556Z"
    },
    "papermill": {
     "duration": 0.024178,
     "end_time": "2023-07-31T08:48:45.452600",
     "exception": false,
     "start_time": "2023-07-31T08:48:45.428422",
     "status": "completed"
    },
    "tags": []
   },
   "outputs": [],
   "source": [
    "train = train.drop(columns=[\"Id\"])\n",
    "test = test.drop(columns=[\"Id\"])"
   ]
  },
  {
   "cell_type": "code",
   "execution_count": 9,
   "id": "9181f30e",
   "metadata": {
    "execution": {
     "iopub.execute_input": "2023-07-31T08:48:45.470064Z",
     "iopub.status.busy": "2023-07-31T08:48:45.469748Z",
     "iopub.status.idle": "2023-07-31T08:48:45.477432Z",
     "shell.execute_reply": "2023-07-31T08:48:45.476547Z"
    },
    "papermill": {
     "duration": 0.018782,
     "end_time": "2023-07-31T08:48:45.479624",
     "exception": false,
     "start_time": "2023-07-31T08:48:45.460842",
     "status": "completed"
    },
    "tags": []
   },
   "outputs": [],
   "source": [
    "train = train.drop(columns=[\"CL\" , \"DV\" , \"BC\" , \"EH\" , \"FD \", \"CS\"])\n",
    "test = test.drop(columns=[\"CL\" , \"DV\" , \"BC\" , \"EH\" , \"FD \", \"CS\"])"
   ]
  },
  {
   "cell_type": "code",
   "execution_count": 10,
   "id": "517eaae9",
   "metadata": {
    "execution": {
     "iopub.execute_input": "2023-07-31T08:48:45.497811Z",
     "iopub.status.busy": "2023-07-31T08:48:45.497469Z",
     "iopub.status.idle": "2023-07-31T08:48:45.504444Z",
     "shell.execute_reply": "2023-07-31T08:48:45.503543Z"
    },
    "papermill": {
     "duration": 0.018589,
     "end_time": "2023-07-31T08:48:45.506598",
     "exception": false,
     "start_time": "2023-07-31T08:48:45.488009",
     "status": "completed"
    },
    "tags": []
   },
   "outputs": [],
   "source": [
    "lb = LabelEncoder()\n",
    "\n",
    "train.EJ = lb.fit_transform(train.EJ)  # A->0, B->1\n",
    "test.EJ = lb.fit_transform(test.EJ)  # A->0, B->1"
   ]
  },
  {
   "cell_type": "code",
   "execution_count": 11,
   "id": "96bc6df8",
   "metadata": {
    "execution": {
     "iopub.execute_input": "2023-07-31T08:48:45.523588Z",
     "iopub.status.busy": "2023-07-31T08:48:45.523259Z",
     "iopub.status.idle": "2023-07-31T08:48:45.547101Z",
     "shell.execute_reply": "2023-07-31T08:48:45.545868Z"
    },
    "papermill": {
     "duration": 0.035961,
     "end_time": "2023-07-31T08:48:45.550271",
     "exception": false,
     "start_time": "2023-07-31T08:48:45.514310",
     "status": "completed"
    },
    "tags": []
   },
   "outputs": [
    {
     "data": {
      "text/html": [
       "<div>\n",
       "<style scoped>\n",
       "    .dataframe tbody tr th:only-of-type {\n",
       "        vertical-align: middle;\n",
       "    }\n",
       "\n",
       "    .dataframe tbody tr th {\n",
       "        vertical-align: top;\n",
       "    }\n",
       "\n",
       "    .dataframe thead th {\n",
       "        text-align: right;\n",
       "    }\n",
       "</style>\n",
       "<table border=\"1\" class=\"dataframe\">\n",
       "  <thead>\n",
       "    <tr style=\"text-align: right;\">\n",
       "      <th></th>\n",
       "      <th>Total</th>\n",
       "      <th>Percent</th>\n",
       "    </tr>\n",
       "  </thead>\n",
       "  <tbody>\n",
       "    <tr>\n",
       "      <th>EL</th>\n",
       "      <td>60</td>\n",
       "      <td>0.097245</td>\n",
       "    </tr>\n",
       "    <tr>\n",
       "      <th>BQ</th>\n",
       "      <td>60</td>\n",
       "      <td>0.097245</td>\n",
       "    </tr>\n",
       "    <tr>\n",
       "      <th>CC</th>\n",
       "      <td>3</td>\n",
       "      <td>0.004862</td>\n",
       "    </tr>\n",
       "    <tr>\n",
       "      <th>FS</th>\n",
       "      <td>2</td>\n",
       "      <td>0.003241</td>\n",
       "    </tr>\n",
       "    <tr>\n",
       "      <th>CB</th>\n",
       "      <td>2</td>\n",
       "      <td>0.003241</td>\n",
       "    </tr>\n",
       "    <tr>\n",
       "      <th>FL</th>\n",
       "      <td>1</td>\n",
       "      <td>0.001621</td>\n",
       "    </tr>\n",
       "    <tr>\n",
       "      <th>FC</th>\n",
       "      <td>1</td>\n",
       "      <td>0.001621</td>\n",
       "    </tr>\n",
       "    <tr>\n",
       "      <th>DU</th>\n",
       "      <td>1</td>\n",
       "      <td>0.001621</td>\n",
       "    </tr>\n",
       "    <tr>\n",
       "      <th>GL</th>\n",
       "      <td>1</td>\n",
       "      <td>0.001621</td>\n",
       "    </tr>\n",
       "    <tr>\n",
       "      <th>EG</th>\n",
       "      <td>0</td>\n",
       "      <td>0.000000</td>\n",
       "    </tr>\n",
       "  </tbody>\n",
       "</table>\n",
       "</div>"
      ],
      "text/plain": [
       "    Total   Percent\n",
       "EL     60  0.097245\n",
       "BQ     60  0.097245\n",
       "CC      3  0.004862\n",
       "FS      2  0.003241\n",
       "CB      2  0.003241\n",
       "FL      1  0.001621\n",
       "FC      1  0.001621\n",
       "DU      1  0.001621\n",
       "GL      1  0.001621\n",
       "EG      0  0.000000"
      ]
     },
     "execution_count": 11,
     "metadata": {},
     "output_type": "execute_result"
    }
   ],
   "source": [
    "#missing data\n",
    "total = train.isnull().sum().sort_values(ascending=False)\n",
    "percent = (train.isnull().sum()/train.isnull().count()).sort_values(ascending=False)\n",
    "missing_data = pd.concat([total, percent], axis=1, keys=['Total', 'Percent'])\n",
    "missing_data.head(10)"
   ]
  },
  {
   "cell_type": "code",
   "execution_count": 12,
   "id": "b6e5ea31",
   "metadata": {
    "execution": {
     "iopub.execute_input": "2023-07-31T08:48:45.569939Z",
     "iopub.status.busy": "2023-07-31T08:48:45.569610Z",
     "iopub.status.idle": "2023-07-31T08:48:45.615342Z",
     "shell.execute_reply": "2023-07-31T08:48:45.614096Z"
    },
    "papermill": {
     "duration": 0.058246,
     "end_time": "2023-07-31T08:48:45.618039",
     "exception": false,
     "start_time": "2023-07-31T08:48:45.559793",
     "status": "completed"
    },
    "tags": []
   },
   "outputs": [
    {
     "data": {
      "text/plain": [
       "0"
      ]
     },
     "execution_count": 12,
     "metadata": {},
     "output_type": "execute_result"
    }
   ],
   "source": [
    "imp = KNNImputer()\n",
    "labels = train[\"Class\"]\n",
    "train= train.drop(columns=\"Class\")\n",
    "data = imp.fit_transform(train)\n",
    "tmp = pd.DataFrame(columns=train.columns, data=data)\n",
    "train = pd.concat([tmp, labels], axis=1)\n",
    "\n",
    "train.isnull().sum().max() #just checking that there's no missing data missing..."
   ]
  },
  {
   "cell_type": "code",
   "execution_count": 13,
   "id": "53e2ced6",
   "metadata": {
    "execution": {
     "iopub.execute_input": "2023-07-31T08:48:45.658226Z",
     "iopub.status.busy": "2023-07-31T08:48:45.657540Z",
     "iopub.status.idle": "2023-07-31T08:48:45.675967Z",
     "shell.execute_reply": "2023-07-31T08:48:45.674710Z"
    },
    "papermill": {
     "duration": 0.04222,
     "end_time": "2023-07-31T08:48:45.679205",
     "exception": false,
     "start_time": "2023-07-31T08:48:45.636985",
     "status": "completed"
    },
    "tags": []
   },
   "outputs": [],
   "source": [
    "#GET THE Scaler ( NOT APPLY YET)\n",
    "scaler = StandardScaler()\n",
    "scaler.fit_transform(train.drop(columns=\"Class\"))\n",
    "\n",
    "if apply_scaler:\n",
    "    test = scaler.transform(test)"
   ]
  },
  {
   "cell_type": "code",
   "execution_count": 14,
   "id": "4ea5beba",
   "metadata": {
    "execution": {
     "iopub.execute_input": "2023-07-31T08:48:45.717059Z",
     "iopub.status.busy": "2023-07-31T08:48:45.716289Z",
     "iopub.status.idle": "2023-07-31T08:48:45.723874Z",
     "shell.execute_reply": "2023-07-31T08:48:45.722891Z"
    },
    "papermill": {
     "duration": 0.029108,
     "end_time": "2023-07-31T08:48:45.726098",
     "exception": false,
     "start_time": "2023-07-31T08:48:45.696990",
     "status": "completed"
    },
    "tags": []
   },
   "outputs": [],
   "source": [
    "y = train[\"Class\"]\n",
    "X= train.drop(columns=\"Class\")"
   ]
  },
  {
   "cell_type": "code",
   "execution_count": 15,
   "id": "de5aa222",
   "metadata": {
    "execution": {
     "iopub.execute_input": "2023-07-31T08:48:45.744796Z",
     "iopub.status.busy": "2023-07-31T08:48:45.744249Z",
     "iopub.status.idle": "2023-07-31T08:48:45.751187Z",
     "shell.execute_reply": "2023-07-31T08:48:45.750248Z"
    },
    "papermill": {
     "duration": 0.018368,
     "end_time": "2023-07-31T08:48:45.753315",
     "exception": false,
     "start_time": "2023-07-31T08:48:45.734947",
     "status": "completed"
    },
    "tags": []
   },
   "outputs": [],
   "source": [
    "# UPPER THE DATASET\n",
    "if balance_dataset:\n",
    "    \n",
    "    # Step 1: Identify minority and majority classes\n",
    "    minority_class = X[y == 1]\n",
    "\n",
    "    # Step 2: Compute the difference in the number of samples\n",
    "    num_minority = len(minority_class)\n",
    "    num_majority = len(X) - num_minority\n",
    "    diff_samples = num_majority - num_minority\n",
    "\n",
    "    print(f'num_minority {num_minority}')\n",
    "    print(f'num_majority {num_majority}')\n",
    "    print(f'diff_samples {diff_samples}')\n",
    "\n",
    "\n",
    "    # Step 3-4: Apply SMOTE to generate synthetic samples\n",
    "    smote = SMOTE(sampling_strategy='auto', random_state=42)\n",
    "    X_smote, y_smote = smote.fit_resample(X, y)\n",
    "\n",
    "    #Attention X_smote will be the the whole dataset include the y value\n",
    "\n",
    "    # Step 5: Create a new DataFrame with the upsampled dataset\n",
    "    upsampled_df = pd.DataFrame(X_smote, columns=X.columns)\n",
    "    upsampled_df[\"Class\"] = y_smote\n",
    "\n",
    "    # Update the dataset with new upper sampling\n",
    "    train = upsampled_df\n",
    "    y = train[\"Class\"]\n",
    "    X= train.drop(columns=\"Class\")"
   ]
  },
  {
   "cell_type": "code",
   "execution_count": 16,
   "id": "83524152",
   "metadata": {
    "execution": {
     "iopub.execute_input": "2023-07-31T08:48:45.771707Z",
     "iopub.status.busy": "2023-07-31T08:48:45.771109Z",
     "iopub.status.idle": "2023-07-31T08:48:45.794146Z",
     "shell.execute_reply": "2023-07-31T08:48:45.793288Z"
    },
    "papermill": {
     "duration": 0.034845,
     "end_time": "2023-07-31T08:48:45.796241",
     "exception": false,
     "start_time": "2023-07-31T08:48:45.761396",
     "status": "completed"
    },
    "tags": []
   },
   "outputs": [],
   "source": [
    "class KFoldModel:\n",
    "    def __init__(self, n_splits, model_type, params):\n",
    "        self.n_splits = n_splits\n",
    "        self.model_type = model_type\n",
    "        self.params = params\n",
    "        self.models = []\n",
    "        self.fitted = False\n",
    "\n",
    "    def fit(self, X, y):\n",
    "        self.models = []\n",
    "        oof = np.zeros((len(train), 2))\n",
    "        skf = StratifiedKFold(n_splits=self.n_splits, shuffle=True,random_state=42)\n",
    "        \n",
    "        print(f'################{self.model_type} train starting.........################')\n",
    "        for i, (train_index, valid_index) in enumerate(skf.split(X, y)):\n",
    "            print('##### Fold',i+1)\n",
    "\n",
    "            X_train, X_val = X.iloc[train_index], X.iloc[valid_index]\n",
    "            y_train, y_val = y[train_index].values, y[valid_index].values\n",
    "\n",
    "            if apply_scaler :\n",
    "                X_train = scaler.transform(X_train)\n",
    "                X_val = scaler.transform(X_val)\n",
    "                \n",
    "            if self.model_type == 'lgb':\n",
    "                # Create a LightGBM dataset\n",
    "                train_lgb_data = lgb.Dataset(X_train, label=y_train)\n",
    "                val_lgb_data = lgb.Dataset(X_val, label=y_val)\n",
    "                \n",
    "                model = lgb.train(\n",
    "                    params = lgb_params,\n",
    "                    train_set = train_lgb_data,\n",
    "                    num_boost_round = 50000,\n",
    "                    valid_sets = [train_lgb_data, val_lgb_data],\n",
    "                    verbose_eval = 10000,\n",
    "                )\n",
    "                preds = model.predict(X_val)\n",
    "                preds_concat = np.concatenate(((1 - preds).reshape(-1, 1) , preds.reshape(-1, 1)), axis=1)\n",
    "                oof[valid_index, :] = preds_concat\n",
    "                \n",
    "            elif self.model_type == 'xgb':\n",
    "                model = XGBClassifier(random_state=42, tree_method='gpu_hist', gpu_id=0, predictor=\"gpu_predictor\",**self.params )  \n",
    "                model.fit(X_train, y_train,eval_set=[(X_val,y_val)],verbose=False)\n",
    "                preds = model.predict_proba(X_val)\n",
    "                oof[valid_index, :] = preds\n",
    "                \n",
    "            elif self.model_type == 'catboost':\n",
    "                model = cb.CatBoostClassifier(**self.params)\n",
    "                model.fit(X_train, y_train, eval_set=[(X_val, y_val)], verbose=1000)\n",
    "                preds = model.predict_proba(X_val)\n",
    "                oof[valid_index, :] = preds\n",
    "                \n",
    "            elif self.model_type == 'tabpfn':\n",
    "                model = TabPFNClassifier(N_ensemble_configurations=64,device='cuda:0')\n",
    "                model.fit(X_train, y_train)\n",
    "                y_eval, preds = model.predict(X_val, return_winning_probability=True)\n",
    "                preds_concat = np.concatenate(( preds.reshape(-1, 1) , (1 - preds).reshape(-1, 1) ), axis=1)\n",
    "                oof[valid_index, :] = preds_concat\n",
    "                \n",
    "            else:\n",
    "                raise ValueError(\"Invalid model_type. Supported types are 'lgb', 'xgb', 'catboost' and 'tabpfn' .\")\n",
    "                \n",
    "            self.models.append(model)\n",
    "            \n",
    "        self.fitted = True\n",
    "        \n",
    "        print('---------------------------------------')\n",
    "        print('ROC AUC Score:')\n",
    "        print(roc_auc_score(y, oof[:,1]))\n",
    "        print('Balance logloss:')\n",
    "        print(balance_logloss(y, oof))\n",
    "        print('---------------------------------------')\n",
    "        \n",
    "        return oof\n",
    "\n",
    "    def predict_proba(self, test):\n",
    "        if not self.fitted:\n",
    "            raise ValueError(\"Model has not been fitted yet. Call fit() method first.\")\n",
    "            \n",
    "        final_preds = []\n",
    "        \n",
    "        for i, model in enumerate(self.models):\n",
    "            if self.model_type == 'lgb':            \n",
    "                preds = model.predict(test)\n",
    "                preds_concat = np.concatenate(((1 - preds).reshape(-1, 1) , preds.reshape(-1, 1)), axis=1)\n",
    "                final_preds.append(preds_concat)\n",
    "                \n",
    "            elif self.model_type == 'xgb':\n",
    "                preds = model.predict_proba(test)\n",
    "                final_preds.append(preds)\n",
    "                \n",
    "            elif self.model_type == 'catboost':\n",
    "                preds = model.predict_proba(test)\n",
    "                final_preds.append(preds)\n",
    "                \n",
    "            elif self.model_type == 'tabpfn':\n",
    "                y_eval, preds = model.predict(test, return_winning_probability=True)\n",
    "                preds_concat = np.concatenate(( preds.reshape(-1, 1) , (1 - preds).reshape(-1, 1) ), axis=1)\n",
    "                final_preds.append(preds_concat)\n",
    "                \n",
    "        return np.mean(final_preds, axis=0)\n",
    "\n",
    "    def predict(self, test):\n",
    "        return self.predict_proba(test)[:,1]"
   ]
  },
  {
   "cell_type": "code",
   "execution_count": 17,
   "id": "dad7d325",
   "metadata": {
    "execution": {
     "iopub.execute_input": "2023-07-31T08:48:45.814248Z",
     "iopub.status.busy": "2023-07-31T08:48:45.813936Z",
     "iopub.status.idle": "2023-07-31T08:48:45.824457Z",
     "shell.execute_reply": "2023-07-31T08:48:45.823566Z"
    },
    "papermill": {
     "duration": 0.02238,
     "end_time": "2023-07-31T08:48:45.826839",
     "exception": false,
     "start_time": "2023-07-31T08:48:45.804459",
     "status": "completed"
    },
    "tags": []
   },
   "outputs": [],
   "source": [
    "# LightGBM parameters\n",
    "lgb_params = {\n",
    "    'objective': 'binary', \n",
    "    'metric': 'binary_logloss', \n",
    "    'boosting': 'goss',\n",
    "    'learning_rate': 0.09110460114828077,\n",
    "    'num_leaves': 8,\n",
    "    'feature_fraction': 0.4989639912997521,\n",
    "    'bagging_fraction': 0.54872439795985,\n",
    "    'lambda_l1': 1.4522184914523175, \n",
    "    'lambda_l2': 1.7873553090132748e-08,\n",
    "    'n_jobs': -1,\n",
    "    'early_stopping_rounds': 20,\n",
    "    'is_unbalance':True, \n",
    "    'verbose': -1,\n",
    "    'seed': 42,\n",
    "}\n",
    "\n",
    "# XGBoost parameters\n",
    "xgb_params = {\n",
    "    'n_estimators': 650,\n",
    "    'learning_rate': 0.012208383405206188,\n",
    "    'booster': 'gbtree',\n",
    "    'lambda': 0.009968756668882757,\n",
    "    'alpha': 0.02666266827121168,\n",
    "    'subsample': 0.7097814108897231,\n",
    "    'colsample_bytree': 0.7946945784285216,\n",
    "    'max_depth': 3,\n",
    "    'min_child_weight': 4,\n",
    "    'eta': 0.5480204506554545,\n",
    "    'gamma': 0.8788654128774149,\n",
    "    'scale_pos_weight': 4.71,\n",
    "    'objective': 'binary:logistic',\n",
    "    'eval_metric': 'logloss',\n",
    "    'early_stopping_rounds': 150,\n",
    "    'verbosity': 0,\n",
    "    'scale_pos_weight': 509/108\n",
    "}\n",
    "\n",
    "# CatBoost parameters\n",
    "catboost_params = {\n",
    "    'iterations': 5000,\n",
    "    'colsample_bylevel': 0.0513276895988184,\n",
    "    'depth': 2,\n",
    "    'learning_rate': 0.0256579773375401,\n",
    "    'l2_leaf_reg': 8.22319805476255,\n",
    "    'random_strength': 0.11327724457066,\n",
    "    'od_type': \"Iter\", \n",
    "    'od_wait': 72,\n",
    "    'bootstrap_type': \"Bayesian\",\n",
    "    'grow_policy': 'SymmetricTree',\n",
    "    'bagging_temperature': 9.58737431845122,\n",
    "    'auto_class_weights': 'Balanced',\n",
    "    'random_state': 42\n",
    "}\n",
    "\n",
    "# TabPFN parameters\n",
    "tabpfn_params = {\n",
    "}\n",
    "\n",
    "# Create instances for each model type\n",
    "kfold_model_lgb = KFoldModel(n_splits=10, model_type='lgb', params=lgb_params)\n",
    "kfold_model_xgb = KFoldModel(n_splits=10, model_type='xgb', params=xgb_params)\n",
    "kfold_model_catboost = KFoldModel(n_splits=5, model_type='catboost', params=catboost_params)\n",
    "kfold_model_tabpfn = KFoldModel(n_splits=5, model_type='tabpfn', params=tabpfn_params)\n"
   ]
  },
  {
   "cell_type": "code",
   "execution_count": 18,
   "id": "425938b0",
   "metadata": {
    "execution": {
     "iopub.execute_input": "2023-07-31T08:48:45.844824Z",
     "iopub.status.busy": "2023-07-31T08:48:45.844518Z",
     "iopub.status.idle": "2023-07-31T08:49:17.288643Z",
     "shell.execute_reply": "2023-07-31T08:49:17.287703Z"
    },
    "papermill": {
     "duration": 31.455924,
     "end_time": "2023-07-31T08:49:17.291097",
     "exception": false,
     "start_time": "2023-07-31T08:48:45.835173",
     "status": "completed"
    },
    "tags": []
   },
   "outputs": [
    {
     "name": "stdout",
     "output_type": "stream",
     "text": [
      "################lgb train starting.........################\n",
      "##### Fold 1\n",
      "Training until validation scores don't improve for 20 rounds\n",
      "Early stopping, best iteration is:\n",
      "[208]\ttraining's binary_logloss: 0.0213267\tvalid_1's binary_logloss: 0.216985\n",
      "##### Fold 2\n",
      "Training until validation scores don't improve for 20 rounds\n",
      "Early stopping, best iteration is:\n",
      "[289]\ttraining's binary_logloss: 0.0164802\tvalid_1's binary_logloss: 0.0700064\n",
      "##### Fold 3\n",
      "Training until validation scores don't improve for 20 rounds\n",
      "Early stopping, best iteration is:\n",
      "[112]\ttraining's binary_logloss: 0.0544849\tvalid_1's binary_logloss: 0.172138\n",
      "##### Fold 4\n",
      "Training until validation scores don't improve for 20 rounds\n",
      "Early stopping, best iteration is:\n",
      "[95]\ttraining's binary_logloss: 0.0696639\tvalid_1's binary_logloss: 0.140002\n",
      "##### Fold 5\n",
      "Training until validation scores don't improve for 20 rounds\n",
      "Early stopping, best iteration is:\n",
      "[215]\ttraining's binary_logloss: 0.0221784\tvalid_1's binary_logloss: 0.114817\n",
      "##### Fold 6\n",
      "Training until validation scores don't improve for 20 rounds\n",
      "Early stopping, best iteration is:\n",
      "[138]\ttraining's binary_logloss: 0.0393691\tvalid_1's binary_logloss: 0.118741\n",
      "##### Fold 7\n",
      "Training until validation scores don't improve for 20 rounds\n",
      "Early stopping, best iteration is:\n",
      "[158]\ttraining's binary_logloss: 0.0307898\tvalid_1's binary_logloss: 0.220974\n",
      "##### Fold 8\n",
      "Training until validation scores don't improve for 20 rounds\n",
      "Early stopping, best iteration is:\n",
      "[187]\ttraining's binary_logloss: 0.0257786\tvalid_1's binary_logloss: 0.181429\n",
      "##### Fold 9\n",
      "Training until validation scores don't improve for 20 rounds\n",
      "Early stopping, best iteration is:\n",
      "[170]\ttraining's binary_logloss: 0.0300648\tvalid_1's binary_logloss: 0.158342\n",
      "##### Fold 10\n",
      "Training until validation scores don't improve for 20 rounds\n",
      "Early stopping, best iteration is:\n",
      "[134]\ttraining's binary_logloss: 0.0423625\tvalid_1's binary_logloss: 0.198654\n",
      "---------------------------------------\n",
      "ROC AUC Score:\n",
      "0.9730772029396784\n",
      "Balance logloss:\n",
      "0.2538372739435633\n",
      "---------------------------------------\n",
      "################xgb train starting.........################\n",
      "##### Fold 1\n",
      "##### Fold 2\n",
      "##### Fold 3\n",
      "##### Fold 4\n",
      "##### Fold 5\n",
      "##### Fold 6\n",
      "##### Fold 7\n",
      "##### Fold 8\n",
      "##### Fold 9\n",
      "##### Fold 10\n",
      "---------------------------------------\n",
      "ROC AUC Score:\n",
      "0.9688750636687768\n",
      "Balance logloss:\n",
      "0.2734463200829076\n",
      "---------------------------------------\n",
      "################catboost train starting.........################\n",
      "##### Fold 1\n",
      "0:\tlearn: 0.6861463\ttest: 0.6859517\tbest: 0.6859517 (0)\ttotal: 52.4ms\tremaining: 4m 22s\n",
      "1000:\tlearn: 0.2149763\ttest: 0.3091498\tbest: 0.3080915 (998)\ttotal: 545ms\tremaining: 2.18s\n",
      "2000:\tlearn: 0.1213991\ttest: 0.2638969\tbest: 0.2637335 (1992)\ttotal: 1.05s\tremaining: 1.57s\n",
      "Stopped by overfitting detector  (72 iterations wait)\n",
      "\n",
      "bestTest = 0.2637334868\n",
      "bestIteration = 1992\n",
      "\n",
      "Shrink model to first 1993 iterations.\n",
      "##### Fold 2\n",
      "0:\tlearn: 0.6896949\ttest: 0.6882438\tbest: 0.6882438 (0)\ttotal: 729us\tremaining: 3.65s\n",
      "1000:\tlearn: 0.2094414\ttest: 0.3388976\tbest: 0.3376899 (991)\ttotal: 524ms\tremaining: 2.1s\n",
      "Stopped by overfitting detector  (72 iterations wait)\n",
      "\n",
      "bestTest = 0.3298008076\n",
      "bestIteration = 1251\n",
      "\n",
      "Shrink model to first 1252 iterations.\n",
      "##### Fold 3\n",
      "0:\tlearn: 0.6863808\ttest: 0.6857848\tbest: 0.6857848 (0)\ttotal: 850us\tremaining: 4.25s\n",
      "1000:\tlearn: 0.2128667\ttest: 0.2743293\tbest: 0.2735746 (986)\ttotal: 507ms\tremaining: 2.02s\n",
      "Stopped by overfitting detector  (72 iterations wait)\n",
      "\n",
      "bestTest = 0.2514257302\n",
      "bestIteration = 1329\n",
      "\n",
      "Shrink model to first 1330 iterations.\n",
      "##### Fold 4\n",
      "0:\tlearn: 0.6890885\ttest: 0.6898964\tbest: 0.6898964 (0)\ttotal: 592us\tremaining: 2.96s\n",
      "Stopped by overfitting detector  (72 iterations wait)\n",
      "\n",
      "bestTest = 0.4214012356\n",
      "bestIteration = 921\n",
      "\n",
      "Shrink model to first 922 iterations.\n",
      "##### Fold 5\n",
      "0:\tlearn: 0.6880785\ttest: 0.6912196\tbest: 0.6912196 (0)\ttotal: 627us\tremaining: 3.13s\n",
      "1000:\tlearn: 0.2167558\ttest: 0.2895216\tbest: 0.2894970 (999)\ttotal: 503ms\tremaining: 2.01s\n",
      "2000:\tlearn: 0.1240292\ttest: 0.2328108\tbest: 0.2328108 (2000)\ttotal: 1.02s\tremaining: 1.52s\n",
      "Stopped by overfitting detector  (72 iterations wait)\n",
      "\n",
      "bestTest = 0.2274245416\n",
      "bestIteration = 2157\n",
      "\n",
      "Shrink model to first 2158 iterations.\n",
      "---------------------------------------\n",
      "ROC AUC Score:\n",
      "0.9560503529069345\n",
      "Balance logloss:\n",
      "0.29855332285030056\n",
      "---------------------------------------\n",
      "################tabpfn train starting.........################\n",
      "##### Fold 1\n",
      "Loading model that can be used for inference only\n",
      "Using a Transformer with 25.82 M parameters\n",
      "##### Fold 2\n",
      "Loading model that can be used for inference only\n",
      "Using a Transformer with 25.82 M parameters\n",
      "##### Fold 3\n",
      "Loading model that can be used for inference only\n",
      "Using a Transformer with 25.82 M parameters\n",
      "##### Fold 4\n",
      "Loading model that can be used for inference only\n",
      "Using a Transformer with 25.82 M parameters\n",
      "##### Fold 5\n",
      "Loading model that can be used for inference only\n",
      "Using a Transformer with 25.82 M parameters\n",
      "---------------------------------------\n",
      "ROC AUC Score:\n",
      "0.8450120061122026\n",
      "Balance logloss:\n",
      "1.1267274338130855\n",
      "---------------------------------------\n"
     ]
    }
   ],
   "source": [
    "# Assuming you have the training data X_train and labels y_train\n",
    "\n",
    "# Fit LightGBM model\n",
    "oof_lgb = kfold_model_lgb.fit(X, y)\n",
    "\n",
    "# Fit XGBoost model\n",
    "oof_xgb = kfold_model_xgb.fit(X, y)\n",
    "\n",
    "# Fit CatBoost model\n",
    "oof_catboost = kfold_model_catboost.fit(X, y)\n",
    "\n",
    "# Fit TabPFN model\n",
    "oof_tabpfn = kfold_model_tabpfn.fit(X, y)\n",
    "\n",
    "# # Make predictions for test data using each model type\n",
    "# predictions_lgb = kfold_model_lgb.predict_proba(test_data)\n",
    "# predictions_xgb = kfold_model_xgb.predict_proba(test_data)\n",
    "# predictions_catboost = kfold_model_catboost.predict_proba(test_data)\n",
    "# predictions_tabpfn = kfold_model_tabpfn.predict_proba(test_data)\n",
    "\n",
    "# # Average the predictions from all models (if you want to do ensemble predictions)\n",
    "# final_predictions = (predictions_lgb + predictions_xgb + predictions_catboost + predictions_tabpfn) / 4\n",
    "\n",
    "# # If you just want to use one model for prediction (e.g., LightGBM)\n",
    "# final_predictions_lgb = kfold_model_lgb.predict(test_data)"
   ]
  },
  {
   "cell_type": "code",
   "execution_count": 19,
   "id": "84c65202",
   "metadata": {
    "execution": {
     "iopub.execute_input": "2023-07-31T08:49:17.315782Z",
     "iopub.status.busy": "2023-07-31T08:49:17.313983Z",
     "iopub.status.idle": "2023-07-31T08:49:17.319132Z",
     "shell.execute_reply": "2023-07-31T08:49:17.318197Z"
    },
    "papermill": {
     "duration": 0.019202,
     "end_time": "2023-07-31T08:49:17.321147",
     "exception": false,
     "start_time": "2023-07-31T08:49:17.301945",
     "status": "completed"
    },
    "tags": []
   },
   "outputs": [],
   "source": [
    "# print(roc_auc_score(train['Class'] , kfold_model_catboost.predict(X)))\n",
    "# print(balance_logloss(train['Class'] , kfold_model_catboost.predict_proba(X)))"
   ]
  },
  {
   "cell_type": "code",
   "execution_count": 20,
   "id": "dc27652b",
   "metadata": {
    "execution": {
     "iopub.execute_input": "2023-07-31T08:49:17.344237Z",
     "iopub.status.busy": "2023-07-31T08:49:17.343905Z",
     "iopub.status.idle": "2023-07-31T08:49:21.200353Z",
     "shell.execute_reply": "2023-07-31T08:49:21.199336Z"
    },
    "papermill": {
     "duration": 3.871003,
     "end_time": "2023-07-31T08:49:21.202926",
     "exception": false,
     "start_time": "2023-07-31T08:49:17.331923",
     "status": "completed"
    },
    "tags": []
   },
   "outputs": [],
   "source": [
    "# Make predictions for test data using each model type\n",
    "predictions_lgb = kfold_model_lgb.predict_proba(test)\n",
    "predictions_xgb = kfold_model_xgb.predict_proba(test)\n",
    "predictions_catboost = kfold_model_catboost.predict_proba(test)\n",
    "predictions_tabpfn = kfold_model_tabpfn.predict_proba(test)\n",
    "\n",
    "# Average the predictions from all models (if you want to do ensemble predictions)\n",
    "final_predictions = (predictions_lgb + predictions_xgb + predictions_catboost) / 3"
   ]
  },
  {
   "cell_type": "code",
   "execution_count": 21,
   "id": "b8f38097",
   "metadata": {
    "execution": {
     "iopub.execute_input": "2023-07-31T08:49:21.226735Z",
     "iopub.status.busy": "2023-07-31T08:49:21.226375Z",
     "iopub.status.idle": "2023-07-31T08:49:21.231647Z",
     "shell.execute_reply": "2023-07-31T08:49:21.230791Z"
    },
    "papermill": {
     "duration": 0.019088,
     "end_time": "2023-07-31T08:49:21.233551",
     "exception": false,
     "start_time": "2023-07-31T08:49:21.214463",
     "status": "completed"
    },
    "tags": []
   },
   "outputs": [],
   "source": [
    "# objective = partial(xgboost_optimizer, X=X, y=y, K=10)\n",
    "\n",
    "# study = optuna.create_study(direction='minimize', sampler=sampler)\n",
    "# study.optimize(objective, n_trials=400)"
   ]
  },
  {
   "cell_type": "code",
   "execution_count": 22,
   "id": "e033978e",
   "metadata": {
    "execution": {
     "iopub.execute_input": "2023-07-31T08:49:21.256781Z",
     "iopub.status.busy": "2023-07-31T08:49:21.255707Z",
     "iopub.status.idle": "2023-07-31T08:49:21.264296Z",
     "shell.execute_reply": "2023-07-31T08:49:21.263364Z"
    },
    "papermill": {
     "duration": 0.022149,
     "end_time": "2023-07-31T08:49:21.266329",
     "exception": false,
     "start_time": "2023-07-31T08:49:21.244180",
     "status": "completed"
    },
    "tags": []
   },
   "outputs": [],
   "source": [
    "# import optuna\n",
    "# import optuna.visualization as optuna_vis\n",
    "\n",
    "# # visualize experiment logs\n",
    "# def my_display_experiment_log(study):\n",
    "#     optuna_vis.plot_optimization_history(study).show()\n",
    "#     optuna_vis.plot_param_importances(study).show()\n",
    "#     optuna_vis.plot_slice(study).show()\n",
    "#     optuna_vis.plot_parallel_coordinate(study).show()\n",
    "#     history = study.trials_dataframe()\n",
    "# #     history.head()\n",
    "#     print(\"Best Score: %.4f\" % study.best_value)\n",
    "#     print(\"Best params: \", study.best_trial.params)\n",
    "# #     print(history[history.value == study.best_value])\n",
    "#     history.to_csv('experiment_log.csv', index=False)"
   ]
  },
  {
   "cell_type": "code",
   "execution_count": 23,
   "id": "9ec46358",
   "metadata": {
    "execution": {
     "iopub.execute_input": "2023-07-31T08:49:21.289672Z",
     "iopub.status.busy": "2023-07-31T08:49:21.288796Z",
     "iopub.status.idle": "2023-07-31T08:49:21.293271Z",
     "shell.execute_reply": "2023-07-31T08:49:21.292402Z"
    },
    "papermill": {
     "duration": 0.018043,
     "end_time": "2023-07-31T08:49:21.295232",
     "exception": false,
     "start_time": "2023-07-31T08:49:21.277189",
     "status": "completed"
    },
    "tags": []
   },
   "outputs": [],
   "source": [
    "# my_display_experiment_log(study)"
   ]
  },
  {
   "cell_type": "code",
   "execution_count": 24,
   "id": "077b8b78",
   "metadata": {
    "execution": {
     "iopub.execute_input": "2023-07-31T08:49:21.318781Z",
     "iopub.status.busy": "2023-07-31T08:49:21.317923Z",
     "iopub.status.idle": "2023-07-31T08:49:21.338787Z",
     "shell.execute_reply": "2023-07-31T08:49:21.337898Z"
    },
    "papermill": {
     "duration": 0.034848,
     "end_time": "2023-07-31T08:49:21.340975",
     "exception": false,
     "start_time": "2023-07-31T08:49:21.306127",
     "status": "completed"
    },
    "tags": []
   },
   "outputs": [
    {
     "data": {
      "text/html": [
       "<div>\n",
       "<style scoped>\n",
       "    .dataframe tbody tr th:only-of-type {\n",
       "        vertical-align: middle;\n",
       "    }\n",
       "\n",
       "    .dataframe tbody tr th {\n",
       "        vertical-align: top;\n",
       "    }\n",
       "\n",
       "    .dataframe thead th {\n",
       "        text-align: right;\n",
       "    }\n",
       "</style>\n",
       "<table border=\"1\" class=\"dataframe\">\n",
       "  <thead>\n",
       "    <tr style=\"text-align: right;\">\n",
       "      <th></th>\n",
       "      <th>Id</th>\n",
       "      <th>class_0</th>\n",
       "      <th>class_1</th>\n",
       "    </tr>\n",
       "  </thead>\n",
       "  <tbody>\n",
       "    <tr>\n",
       "      <th>0</th>\n",
       "      <td>00eed32682bb</td>\n",
       "      <td>0.536392</td>\n",
       "      <td>0.463608</td>\n",
       "    </tr>\n",
       "    <tr>\n",
       "      <th>1</th>\n",
       "      <td>010ebe33f668</td>\n",
       "      <td>0.536392</td>\n",
       "      <td>0.463608</td>\n",
       "    </tr>\n",
       "    <tr>\n",
       "      <th>2</th>\n",
       "      <td>02fa521e1838</td>\n",
       "      <td>0.536392</td>\n",
       "      <td>0.463608</td>\n",
       "    </tr>\n",
       "    <tr>\n",
       "      <th>3</th>\n",
       "      <td>040e15f562a2</td>\n",
       "      <td>0.536392</td>\n",
       "      <td>0.463608</td>\n",
       "    </tr>\n",
       "    <tr>\n",
       "      <th>4</th>\n",
       "      <td>046e85c7cc7f</td>\n",
       "      <td>0.536392</td>\n",
       "      <td>0.463608</td>\n",
       "    </tr>\n",
       "  </tbody>\n",
       "</table>\n",
       "</div>"
      ],
      "text/plain": [
       "             Id   class_0   class_1\n",
       "0  00eed32682bb  0.536392  0.463608\n",
       "1  010ebe33f668  0.536392  0.463608\n",
       "2  02fa521e1838  0.536392  0.463608\n",
       "3  040e15f562a2  0.536392  0.463608\n",
       "4  046e85c7cc7f  0.536392  0.463608"
      ]
     },
     "execution_count": 24,
     "metadata": {},
     "output_type": "execute_result"
    }
   ],
   "source": [
    "sample_submission = pd.read_csv('/kaggle/input/icr-identify-age-related-conditions/sample_submission.csv')\n",
    "sample_submission[['class_0','class_1']] = final_predictions\n",
    "sample_submission.to_csv('submission.csv',index=False)\n",
    "sample_submission"
   ]
  },
  {
   "cell_type": "code",
   "execution_count": null,
   "id": "4af9103b",
   "metadata": {
    "papermill": {
     "duration": 0.01049,
     "end_time": "2023-07-31T08:49:21.362837",
     "exception": false,
     "start_time": "2023-07-31T08:49:21.352347",
     "status": "completed"
    },
    "tags": []
   },
   "outputs": [],
   "source": []
  }
 ],
 "metadata": {
  "kernelspec": {
   "display_name": "Python 3",
   "language": "python",
   "name": "python3"
  },
  "language_info": {
   "codemirror_mode": {
    "name": "ipython",
    "version": 3
   },
   "file_extension": ".py",
   "mimetype": "text/x-python",
   "name": "python",
   "nbconvert_exporter": "python",
   "pygments_lexer": "ipython3",
   "version": "3.10.10"
  },
  "papermill": {
   "default_parameters": {},
   "duration": 79.741452,
   "end_time": "2023-07-31T08:49:24.513937",
   "environment_variables": {},
   "exception": null,
   "input_path": "__notebook__.ipynb",
   "output_path": "__notebook__.ipynb",
   "parameters": {},
   "start_time": "2023-07-31T08:48:04.772485",
   "version": "2.4.0"
  }
 },
 "nbformat": 4,
 "nbformat_minor": 5
}
